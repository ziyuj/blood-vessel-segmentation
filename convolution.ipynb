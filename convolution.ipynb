{
 "cells": [
  {
   "cell_type": "code",
   "execution_count": 1,
   "metadata": {},
   "outputs": [],
   "source": [
    "import torch\n",
    "from torch import nn\n",
    "from torch.utils.data import Dataset, DataLoader\n",
    "from unet3d import UNet3D\n",
    "import time\n",
    "import numpy as np"
   ]
  },
  {
   "cell_type": "code",
   "execution_count": 2,
   "metadata": {},
   "outputs": [
    {
     "name": "stdout",
     "output_type": "stream",
     "text": [
      "in and out: (1, 4)\n",
      "in and out: (4, 8)\n",
      "in and out: (8, 16)\n",
      "in and out: (16, 32)\n",
      "in, res and out: (32, 16, 16)\n",
      "in, res and out: (16, 8, 8)\n",
      "in, res and out: (8, 4, 4)\n",
      "output numbner of classes: 2\n"
     ]
    }
   ],
   "source": [
    "device = 'cuda'\n",
    "model = UNet3D(in_channels=1, num_classes=2, block_channels=[4, 8, 16, 32]).to(device)\n",
    "#model_2 = torch.load(\"model_kidney_1_dense_5epochs.pth\").to(device)\n",
    "#model = torch.load(\"model_kidney_1_dense_weighted_8epochs.pth\").to(device)"
   ]
  },
  {
   "cell_type": "code",
   "execution_count": 3,
   "metadata": {},
   "outputs": [
    {
     "name": "stdout",
     "output_type": "stream",
     "text": [
      "size of kidney_1_dense: 10.83 GB as float32\n",
      "size of kidney_1_voi: 20.77 GB as float32\n"
     ]
    }
   ],
   "source": [
    "### data size\n",
    "\n",
    "kidney_1_dense = (2279, 1303, 912) # dense, all  \n",
    "kidney_1_voi_p = (1397, 1928, 1928) # high resulution subset  \n",
    "kidney_2_sparse_65 = (2217, 1041, 1511) # sparsly segmented, 65%  \n",
    "kidney_3_sparse_85 = (1035, 1706, 1510) # sparsly segmented, 85%  \n",
    "kidney_3_dense_p_l = (501, 1706, 1510) # dense segmented subset, label ONLY\n",
    "\n",
    "print(f'size of kidney_1_dense: {2279*1303*912*4/(1e9):.4} GB as float32')\n",
    "print(f'size of kidney_1_voi: {1397*1928*1928*4/(1e9):.4} GB as float32')"
   ]
  },
  {
   "cell_type": "markdown",
   "metadata": {},
   "source": [
    "# Dataset"
   ]
  },
  {
   "cell_type": "code",
   "execution_count": 4,
   "metadata": {},
   "outputs": [],
   "source": [
    "# dataset class\n",
    "\n",
    "class Kidney3D(Dataset):\n",
    "    \"\"\"Dataset for one kidney\"\"\"\n",
    "    def __init__(self, kidney_path, label_path, size=128, stride=-1):\n",
    "        \"\"\"Initialize data set based on volume size and stride\"\"\"\n",
    "        self.kidney = np.load(kidney_path)\n",
    "        self.label = np.load(label_path)\n",
    "        if stride == -1: stride = size\n",
    "        self.stride = stride\n",
    "        self.size = size\n",
    "        # pad the data to cover all raw data\n",
    "        # not necessery for training but good for inferencing\n",
    "        pad_dim = []\n",
    "        for i in range(3):\n",
    "            comp = stride - (self.kidney.shape[i] - size) % stride\n",
    "            pad_dim.append((comp // 2, comp // 2 + comp % 2))\n",
    "        self.kidney = np.pad(self.kidney, pad_dim, 'edge')\n",
    "        self.label = np.pad(self.label, pad_dim, 'constant', constant_values=0)\n",
    "        self.n_h = (self.kidney.shape[0] - size) // stride + 1\n",
    "        self.n_w = (self.kidney.shape[1] - size) // stride + 1\n",
    "        self.n_l = (self.kidney.shape[2] - size) // stride + 1\n",
    "        self.n = self.n_h * self.n_w * self.n_l\n",
    "        \n",
    "    def __len__(self):\n",
    "        return self.n\n",
    "    \n",
    "    def __getitem__(self, idx):\n",
    "        h = idx // (self.n_w * self.n_l)\n",
    "        w = idx % (self.n_w * self.n_l) // self.n_l\n",
    "        l = idx % (self.n_w * self.n_l) % self.n_l\n",
    "\n",
    "        data = torch.from_numpy(self.kidney[h*self.stride:h*self.stride+self.size, \n",
    "                                            w*self.stride:w*self.stride+self.size,\n",
    "                                            l*self.stride:l*self.stride+self.size])\n",
    "        data = torch.unsqueeze(data, 0).to(torch.float)\n",
    "        \n",
    "        label = torch.from_numpy(self.label[h*self.stride:h*self.stride+self.size, \n",
    "                                            w*self.stride:w*self.stride+self.size,\n",
    "                                            l*self.stride:l*self.stride+self.size])\n",
    "        label = label.to(torch.long)\n",
    "        # print(idx, (h, w, l)) # (0, 0, 13)\n",
    "        # print(f'data shape: {data.shape}')\n",
    "        # print(f'label shape: {label.shape}')\n",
    "        return data, label"
   ]
  },
  {
   "cell_type": "code",
   "execution_count": 5,
   "metadata": {},
   "outputs": [],
   "source": [
    "# unbalanced issue of the data\n",
    "\n",
    "# label_list = []\n",
    "# for i in range(ds.n):\n",
    "#     label_list.append(ds.__getitem__(i)[1].sum().item())\n",
    "\n",
    "# print(len(label_list))\n",
    "# print(sum([1 for i in label_list if i > 0]))\n",
    "\n",
    "# pos = train_ds.label.sum()\n",
    "# total = train_ds.label.shape[0] * train_ds.label.shape[1] * train_ds.label.shape[2]\n",
    "# print(f'{pos/total:.5f}')"
   ]
  },
  {
   "cell_type": "markdown",
   "metadata": {},
   "source": [
    "when size = 128, 509 of 1190 data non-empty  \n",
    "when size = 128, stride = 20, 120291 out of 254880 non-empty\n",
    "when size = 512, 71 of 120 data non-empty  \n",
    "pixel wise, 0.00503 of data are positive"
   ]
  },
  {
   "cell_type": "markdown",
   "metadata": {},
   "source": [
    "# Loss, optimizer, accuracy, train & test functions"
   ]
  },
  {
   "cell_type": "code",
   "execution_count": 6,
   "metadata": {},
   "outputs": [
    {
     "name": "stderr",
     "output_type": "stream",
     "text": [
      "2024-01-05 10:02:35.008887: I tensorflow/core/platform/cpu_feature_guard.cc:182] This TensorFlow binary is optimized to use available CPU instructions in performance-critical operations.\n",
      "To enable the following instructions: AVX2 FMA, in other operations, rebuild TensorFlow with the appropriate compiler flags.\n"
     ]
    }
   ],
   "source": [
    "from torch.utils.tensorboard import SummaryWriter\n",
    "#writer.close()\n",
    "writer = SummaryWriter('runs/unet_3d')\n",
    "#tensorboard --logdir='/home/ziyu/Projects/blood-vessel-segmentation/runs'"
   ]
  },
  {
   "cell_type": "code",
   "execution_count": 7,
   "metadata": {},
   "outputs": [],
   "source": [
    "loss_fn = nn.CrossEntropyLoss(weight=torch.tensor([1.0, 20.0]).to(device))\n",
    "optimizer = torch.optim.Adam(model.parameters())"
   ]
  },
  {
   "cell_type": "code",
   "execution_count": 8,
   "metadata": {},
   "outputs": [],
   "source": [
    "def dice_accuracy_batch(pred, y):\n",
    "    \"\"\"return overlap, label_positive, pred_positive for each batch\n",
    "    \n",
    "    Since one batch may not contains any positive label, leave the accuracy calculation to the end \n",
    "    \"\"\"\n",
    "    overlap = (pred.argmax(1) & y).type(torch.int).sum().item()\n",
    "    pred_positive = (pred.argmax(1) == 1).type(torch.int).sum().item()\n",
    "    label_positive = y.type(torch.int).sum().item()\n",
    "    \n",
    "    return overlap, pred_positive, label_positive"
   ]
  },
  {
   "cell_type": "code",
   "execution_count": 9,
   "metadata": {},
   "outputs": [],
   "source": [
    "def train(dataloader, model, loss_fn, optimizer, print_gap=20, track_accuracy=True, epoch=0):\n",
    "    size = len(dataloader.dataset)\n",
    "    num_batches = len(dataloader)\n",
    "    test_loss, overlap, pred_positive, label_positive = 0,0,0,0\n",
    "    model.train()\n",
    "    for batch, (X, y) in enumerate(dataloader):\n",
    "        X, y = X.to(device), y.to(device)\n",
    "\n",
    "        # Compute prediction error\n",
    "        pred = model(X)\n",
    "        loss = loss_fn(pred, y)\n",
    "\n",
    "        # Backpropagation\n",
    "        loss.backward()\n",
    "        optimizer.step()\n",
    "        optimizer.zero_grad()\n",
    "\n",
    "        loss = loss.item()\n",
    "        writer.add_scalar('loss', loss, batch + epoch * num_batches)\n",
    "        test_loss += loss\n",
    "\n",
    "        if track_accuracy:\n",
    "            overlap_batch, pred_positive_batch, label_positive_batch = dice_accuracy_batch(pred, y)\n",
    "            overlap += overlap_batch\n",
    "            pred_positive += pred_positive_batch\n",
    "            label_positive += label_positive_batch\n",
    "            if (pred_positive_batch + label_positive_batch) == 0:\n",
    "                batch_dice_accuracy = -1\n",
    "            else:\n",
    "                batch_dice_accuracy = 2*overlap_batch / (pred_positive_batch + label_positive_batch)\n",
    "            writer.add_scalar('Batch_Dice_Accuracy', batch_dice_accuracy, batch + epoch * num_batches)\n",
    "\n",
    "        if batch % print_gap == 0:\n",
    "            current = (batch + 1) * len(X)\n",
    "            print(f\"loss: {loss:>7f}  [{current:>5d}/{size:>5d}]\")\n",
    "            if track_accuracy: print(f\"batch Dice Accuracy: {batch_dice_accuracy:.2%}\")\n",
    "            \n",
    "\n",
    "    avg_loss = test_loss / num_batches\n",
    "    print(f\"Epoch Avg loss: {avg_loss:>8f}\")\n",
    "    if track_accuracy:\n",
    "        dice_accuracy = 2*overlap / (pred_positive + label_positive)\n",
    "        print(f\"Epoch Dice Accuracy: {dice_accuracy:.2%}\")\n"
   ]
  },
  {
   "cell_type": "code",
   "execution_count": 10,
   "metadata": {},
   "outputs": [],
   "source": [
    "def test(dataloader, model, loss_fn):\n",
    "    size = len(dataloader.dataset)\n",
    "    num_batches = len(dataloader)\n",
    "    model.eval()\n",
    "    test_loss, overlap, pred_positive, label_positive = 0,0,0,0\n",
    "    with torch.no_grad():\n",
    "        for X, y in dataloader:\n",
    "            X, y = X.to(device), y.to(device)\n",
    "            pred = model(X)\n",
    "            test_loss += loss_fn(pred, y).item()\n",
    "            overlap_batch, pred_positive_batch, label_positive_batch = dice_accuracy_batch(pred, y)\n",
    "            overlap += overlap_batch \n",
    "            pred_positive += pred_positive_batch\n",
    "            label_positive += label_positive_batch\n",
    "    test_loss /= num_batches\n",
    "    dice_accuracy = 2*overlap / (pred_positive + label_positive)\n",
    "    print(f\"Dice Accuracy: {dice_accuracy:.2%}, Avg loss: {test_loss:>8f} \\n\")"
   ]
  },
  {
   "cell_type": "markdown",
   "metadata": {},
   "source": [
    "# Training"
   ]
  },
  {
   "cell_type": "code",
   "execution_count": 11,
   "metadata": {},
   "outputs": [
    {
     "name": "stdout",
     "output_type": "stream",
     "text": [
      "9800\n",
      "12512\n",
      "9568\n"
     ]
    }
   ],
   "source": [
    "# create training datasets\n",
    "image_size = 128\n",
    "batch_size = 8\n",
    "\n",
    "kidney_1_path = '/home/ziyu/Projects/blood-vessel-segmentation/data/processed/conv/kidney_1_dense_images.npy'\n",
    "label_1_path = '/home/ziyu/Projects/blood-vessel-segmentation/data/processed/conv/kidney_1_dense_labels.npy'\n",
    "train_ds_1 = Kidney3D(kidney_1_path, label_1_path, size=image_size, stride=64)\n",
    "print(train_ds_1.__len__())\n",
    "train_dataloader_1 = DataLoader(train_ds_1, batch_size=batch_size, shuffle=True)\n",
    "\n",
    "kidney_2_path = '/home/ziyu/Projects/blood-vessel-segmentation/data/processed/conv/kidney_2_images.npy'\n",
    "label_2_path = '/home/ziyu/Projects/blood-vessel-segmentation/data/processed/conv/kidney_2_labels.npy'\n",
    "train_ds_2 = Kidney3D(kidney_2_path, label_2_path, size=image_size, stride=64)\n",
    "print(train_ds_2.__len__())\n",
    "train_dataloader_2 = DataLoader(train_ds_2, batch_size=batch_size, shuffle=True)\n",
    "\n",
    "kidney_3_path = '/home/ziyu/Projects/blood-vessel-segmentation/data/processed/conv/kidney_3_sparse_images.npy'\n",
    "label_3_path = '/home/ziyu/Projects/blood-vessel-segmentation/data/processed/conv/kidney_3_sparse_labels.npy'\n",
    "train_ds_3 = Kidney3D(kidney_3_path, label_3_path, size=image_size, stride=64)\n",
    "print(train_ds_3.__len__())\n",
    "train_dataloader_3 = DataLoader(train_ds_3, batch_size=batch_size, shuffle=True)"
   ]
  },
  {
   "cell_type": "code",
   "execution_count": 12,
   "metadata": {},
   "outputs": [],
   "source": [
    "#torch.cuda.empty_cache()"
   ]
  },
  {
   "cell_type": "code",
   "execution_count": 13,
   "metadata": {},
   "outputs": [
    {
     "name": "stdout",
     "output_type": "stream",
     "text": [
      "Epoch 1\n",
      "-------------------------------\n",
      "loss: 0.621270  [    8/12512]\n",
      "batch Dice Accuracy: 1.89%\n",
      "loss: 0.035701  [ 8008/12512]\n",
      "batch Dice Accuracy: 38.47%\n",
      "Epoch Avg loss: 0.117618\n",
      "Epoch Dice Accuracy: 37.08%\n",
      "Epoch 1 training done, time: 946.52\n",
      "Epoch 2\n",
      "-------------------------------\n",
      "loss: 0.025255  [    8/12512]\n",
      "batch Dice Accuracy: 51.03%\n",
      "loss: 0.019502  [ 8008/12512]\n",
      "batch Dice Accuracy: 31.50%\n",
      "Epoch Avg loss: 0.032898\n",
      "Epoch Dice Accuracy: 56.48%\n",
      "Epoch 2 training done, time: 961.29\n",
      "Epoch 3\n",
      "-------------------------------\n",
      "loss: 0.024734  [    8/12512]\n",
      "batch Dice Accuracy: 37.47%\n",
      "loss: 0.011250  [ 8008/12512]\n",
      "batch Dice Accuracy: 86.11%\n",
      "Epoch Avg loss: 0.022147\n",
      "Epoch Dice Accuracy: 64.39%\n",
      "Epoch 3 training done, time: 960.94\n",
      "Epoch 4\n",
      "-------------------------------\n",
      "loss: 0.012362  [    8/12512]\n",
      "batch Dice Accuracy: 23.87%\n",
      "loss: 0.031201  [ 8008/12512]\n",
      "batch Dice Accuracy: 97.68%\n",
      "Epoch Avg loss: 0.018255\n",
      "Epoch Dice Accuracy: 69.60%\n",
      "Epoch 4 training done, time: 960.91\n",
      "Epoch 5\n",
      "-------------------------------\n",
      "loss: 0.006909  [    8/12512]\n",
      "batch Dice Accuracy: 23.52%\n",
      "loss: 0.005600  [ 8008/12512]\n",
      "batch Dice Accuracy: 92.09%\n",
      "Epoch Avg loss: 0.016221\n",
      "Epoch Dice Accuracy: 71.71%\n",
      "Epoch 5 training done, time: 960.92\n",
      "Epoch 6\n",
      "-------------------------------\n",
      "loss: 0.020991  [    8/12512]\n",
      "batch Dice Accuracy: 8.65%\n",
      "loss: 0.007731  [ 8008/12512]\n",
      "batch Dice Accuracy: 94.05%\n",
      "Epoch Avg loss: 0.012585\n",
      "Epoch Dice Accuracy: 77.25%\n",
      "Epoch 6 training done, time: 960.88\n",
      "Epoch 7\n",
      "-------------------------------\n",
      "loss: 0.007704  [    8/12512]\n",
      "batch Dice Accuracy: 63.41%\n",
      "loss: 0.002126  [ 8008/12512]\n",
      "batch Dice Accuracy: 30.90%\n",
      "Epoch Avg loss: 0.009933\n",
      "Epoch Dice Accuracy: 80.53%\n",
      "Epoch 7 training done, time: 960.90\n",
      "Epoch 8\n",
      "-------------------------------\n",
      "loss: 0.004973  [    8/12512]\n",
      "batch Dice Accuracy: 80.18%\n",
      "loss: 0.007651  [ 8008/12512]\n",
      "batch Dice Accuracy: 71.37%\n",
      "Epoch Avg loss: 0.012339\n",
      "Epoch Dice Accuracy: 76.52%\n",
      "Epoch 8 training done, time: 960.91\n",
      "Epoch 9\n",
      "-------------------------------\n",
      "loss: 0.032940  [    8/12512]\n",
      "batch Dice Accuracy: 78.34%\n",
      "loss: 0.014387  [ 8008/12512]\n",
      "batch Dice Accuracy: 97.55%\n",
      "Epoch Avg loss: 0.008959\n",
      "Epoch Dice Accuracy: 81.57%\n",
      "Epoch 9 training done, time: 960.95\n",
      "Epoch 10\n",
      "-------------------------------\n",
      "loss: 0.004850  [    8/12512]\n",
      "batch Dice Accuracy: 65.92%\n",
      "loss: 0.008503  [ 8008/12512]\n",
      "batch Dice Accuracy: 73.16%\n",
      "Epoch Avg loss: 0.009451\n",
      "Epoch Dice Accuracy: 81.31%\n",
      "Epoch 10 training done, time: 960.86\n",
      "Done!\n",
      "Epoch 1\n",
      "-------------------------------\n",
      "loss: 0.067669  [    8/ 9568]\n",
      "batch Dice Accuracy: 26.47%\n",
      "loss: 0.007278  [ 8008/ 9568]\n",
      "batch Dice Accuracy: 0.00%\n",
      "Epoch Avg loss: 0.024246\n",
      "Epoch Dice Accuracy: 51.43%\n",
      "Epoch 1 training done, time: 737.11\n",
      "Epoch 2\n",
      "-------------------------------\n",
      "loss: 0.016331  [    8/ 9568]\n",
      "batch Dice Accuracy: 52.04%\n",
      "loss: 0.003587  [ 8008/ 9568]\n",
      "batch Dice Accuracy: 53.97%\n",
      "Epoch Avg loss: 0.012398\n",
      "Epoch Dice Accuracy: 66.95%\n",
      "Epoch 2 training done, time: 736.05\n",
      "Epoch 3\n",
      "-------------------------------\n",
      "loss: 0.010979  [    8/ 9568]\n",
      "batch Dice Accuracy: 87.19%\n",
      "loss: 0.005690  [ 8008/ 9568]\n",
      "batch Dice Accuracy: 77.20%\n",
      "Epoch Avg loss: 0.013203\n",
      "Epoch Dice Accuracy: 67.23%\n",
      "Epoch 3 training done, time: 735.42\n",
      "Epoch 4\n",
      "-------------------------------\n",
      "loss: 0.001707  [    8/ 9568]\n",
      "batch Dice Accuracy: 53.83%\n",
      "loss: 0.003845  [ 8008/ 9568]\n",
      "batch Dice Accuracy: 66.79%\n",
      "Epoch Avg loss: 0.009836\n",
      "Epoch Dice Accuracy: 72.96%\n",
      "Epoch 4 training done, time: 735.22\n",
      "Epoch 5\n",
      "-------------------------------\n",
      "loss: 0.006042  [    8/ 9568]\n",
      "batch Dice Accuracy: 53.20%\n",
      "loss: 0.017993  [ 8008/ 9568]\n",
      "batch Dice Accuracy: 77.10%\n",
      "Epoch Avg loss: 0.009022\n",
      "Epoch Dice Accuracy: 74.35%\n",
      "Epoch 5 training done, time: 734.81\n",
      "Epoch 6\n",
      "-------------------------------\n",
      "loss: 0.001190  [    8/ 9568]\n",
      "batch Dice Accuracy: 87.98%\n",
      "loss: 0.020527  [ 8008/ 9568]\n",
      "batch Dice Accuracy: 70.47%\n",
      "Epoch Avg loss: 0.010290\n",
      "Epoch Dice Accuracy: 71.30%\n",
      "Epoch 6 training done, time: 736.24\n",
      "Epoch 7\n",
      "-------------------------------\n",
      "loss: 0.002187  [    8/ 9568]\n",
      "batch Dice Accuracy: 75.52%\n",
      "loss: 0.013081  [ 8008/ 9568]\n",
      "batch Dice Accuracy: 89.46%\n",
      "Epoch Avg loss: 0.008339\n",
      "Epoch Dice Accuracy: 75.49%\n",
      "Epoch 7 training done, time: 734.82\n",
      "Epoch 8\n",
      "-------------------------------\n",
      "loss: 0.024389  [    8/ 9568]\n",
      "batch Dice Accuracy: 57.23%\n",
      "loss: 0.005453  [ 8008/ 9568]\n",
      "batch Dice Accuracy: 73.23%\n",
      "Epoch Avg loss: 0.006708\n",
      "Epoch Dice Accuracy: 79.81%\n",
      "Epoch 8 training done, time: 735.22\n",
      "Epoch 9\n",
      "-------------------------------\n",
      "loss: 0.003854  [    8/ 9568]\n",
      "batch Dice Accuracy: 87.68%\n",
      "loss: 0.000637  [ 8008/ 9568]\n",
      "batch Dice Accuracy: 3.38%\n",
      "Epoch Avg loss: 0.008413\n",
      "Epoch Dice Accuracy: 75.85%\n",
      "Epoch 9 training done, time: 735.43\n",
      "Epoch 10\n",
      "-------------------------------\n",
      "loss: 0.002336  [    8/ 9568]\n",
      "batch Dice Accuracy: 64.83%\n",
      "loss: 0.000219  [ 8008/ 9568]\n",
      "batch Dice Accuracy: 0.00%\n",
      "Epoch Avg loss: 0.006192\n",
      "Epoch Dice Accuracy: 80.94%\n",
      "Epoch 10 training done, time: 743.21\n",
      "Done!\n",
      "Epoch 1\n",
      "-------------------------------\n",
      "loss: 0.155791  [    8/ 9800]\n",
      "batch Dice Accuracy: 28.67%\n",
      "loss: 0.012257  [ 8008/ 9800]\n",
      "batch Dice Accuracy: 57.46%\n",
      "Epoch Avg loss: 0.034582\n",
      "Epoch Dice Accuracy: 59.10%\n",
      "Epoch 1 training done, time: 756.46\n",
      "Epoch 2\n",
      "-------------------------------\n",
      "loss: 0.010456  [    8/ 9800]\n",
      "batch Dice Accuracy: 43.94%\n",
      "loss: 0.023262  [ 8008/ 9800]\n",
      "batch Dice Accuracy: 82.11%\n",
      "Epoch Avg loss: 0.017436\n",
      "Epoch Dice Accuracy: 72.82%\n",
      "Epoch 2 training done, time: 753.09\n",
      "Epoch 3\n",
      "-------------------------------\n",
      "loss: 0.012336  [    8/ 9800]\n",
      "batch Dice Accuracy: 79.42%\n",
      "loss: 0.008886  [ 8008/ 9800]\n",
      "batch Dice Accuracy: 75.27%\n",
      "Epoch Avg loss: 0.015164\n",
      "Epoch Dice Accuracy: 75.58%\n",
      "Epoch 3 training done, time: 753.50\n",
      "Epoch 4\n",
      "-------------------------------\n",
      "loss: 0.007418  [    8/ 9800]\n",
      "batch Dice Accuracy: 78.66%\n",
      "loss: 0.005450  [ 8008/ 9800]\n",
      "batch Dice Accuracy: 80.22%\n",
      "Epoch Avg loss: 0.013070\n",
      "Epoch Dice Accuracy: 78.60%\n",
      "Epoch 4 training done, time: 754.43\n",
      "Epoch 5\n",
      "-------------------------------\n",
      "loss: 0.028515  [    8/ 9800]\n",
      "batch Dice Accuracy: 72.35%\n",
      "loss: 0.004532  [ 8008/ 9800]\n",
      "batch Dice Accuracy: 35.30%\n",
      "Epoch Avg loss: 0.013627\n",
      "Epoch Dice Accuracy: 77.86%\n",
      "Epoch 5 training done, time: 753.24\n",
      "Epoch 6\n",
      "-------------------------------\n",
      "loss: 0.007870  [    8/ 9800]\n",
      "batch Dice Accuracy: 49.00%\n",
      "loss: 0.010781  [ 8008/ 9800]\n",
      "batch Dice Accuracy: 91.33%\n",
      "Epoch Avg loss: 0.011360\n",
      "Epoch Dice Accuracy: 80.99%\n",
      "Epoch 6 training done, time: 752.84\n",
      "Epoch 7\n",
      "-------------------------------\n",
      "loss: 0.017501  [    8/ 9800]\n",
      "batch Dice Accuracy: 70.06%\n",
      "loss: 0.008008  [ 8008/ 9800]\n",
      "batch Dice Accuracy: 87.03%\n",
      "Epoch Avg loss: 0.010440\n",
      "Epoch Dice Accuracy: 82.19%\n",
      "Epoch 7 training done, time: 753.87\n",
      "Epoch 8\n",
      "-------------------------------\n",
      "loss: 0.004356  [    8/ 9800]\n",
      "batch Dice Accuracy: 84.24%\n",
      "loss: 0.013269  [ 8008/ 9800]\n",
      "batch Dice Accuracy: 51.82%\n",
      "Epoch Avg loss: 0.009511\n",
      "Epoch Dice Accuracy: 83.78%\n",
      "Epoch 8 training done, time: 754.21\n",
      "Epoch 9\n",
      "-------------------------------\n",
      "loss: 0.008124  [    8/ 9800]\n",
      "batch Dice Accuracy: 85.65%\n",
      "loss: 0.010068  [ 8008/ 9800]\n",
      "batch Dice Accuracy: 95.72%\n",
      "Epoch Avg loss: 0.010911\n",
      "Epoch Dice Accuracy: 82.16%\n",
      "Epoch 9 training done, time: 754.92\n",
      "Epoch 10\n",
      "-------------------------------\n",
      "loss: 0.011293  [    8/ 9800]\n",
      "batch Dice Accuracy: 73.66%\n",
      "loss: 0.008219  [ 8008/ 9800]\n",
      "batch Dice Accuracy: 81.57%\n",
      "Epoch Avg loss: 0.009899\n",
      "Epoch Dice Accuracy: 83.30%\n",
      "Epoch 10 training done, time: 756.74\n",
      "Done!\n"
     ]
    }
   ],
   "source": [
    "# from sparse to dense, kidney 2, kidney 3, kidney 1, each 10 epochs\n",
    "epochs = 10\n",
    "for train_dataloader in (train_dataloader_2, train_dataloader_3, train_dataloader_1):\n",
    "    for t in range(epochs):\n",
    "        start_time = time.time()\n",
    "        print(f\"Epoch {t+1}\\n-------------------------------\")\n",
    "        train(train_dataloader, model, loss_fn, optimizer, print_gap=1000, track_accuracy=True, epoch=t)\n",
    "        print(f\"Epoch {t+1} training done, time: {time.time() - start_time:.2f}\")\n",
    "    print(\"Done!\")"
   ]
  },
  {
   "cell_type": "code",
   "execution_count": 14,
   "metadata": {},
   "outputs": [],
   "source": [
    "test_ds_1 = Kidney3D(kidney_1_path, label_1_path, size=image_size, stride=-1)\n",
    "test_dataloader_1 = DataLoader(test_ds_1, batch_size=batch_size, shuffle=True)\n",
    "\n",
    "test_ds_2 = Kidney3D(kidney_2_path, label_2_path, size=image_size, stride=-1)\n",
    "test_dataloader_2 = DataLoader(test_ds_2, batch_size=batch_size, shuffle=True)\n",
    "\n",
    "test_ds_3 = Kidney3D(kidney_3_path, label_3_path, size=image_size, stride=-1)\n",
    "test_dataloader_3 = DataLoader(test_ds_3, batch_size=batch_size, shuffle=True)"
   ]
  },
  {
   "cell_type": "code",
   "execution_count": 15,
   "metadata": {},
   "outputs": [
    {
     "name": "stdout",
     "output_type": "stream",
     "text": [
      "Dice Accuracy: 38.43%, Avg loss: 0.171806 \n",
      "\n",
      "Dice Accuracy: 0.01%, Avg loss: 0.481434 \n",
      "\n",
      "Dice Accuracy: 82.27%, Avg loss: 0.007162 \n",
      "\n"
     ]
    }
   ],
   "source": [
    "# image size 128, net work 4...\n",
    "test(test_dataloader_2, model, loss_fn)\n",
    "test(test_dataloader_3, model, loss_fn)\n",
    "test(test_dataloader_1, model, loss_fn)"
   ]
  },
  {
   "cell_type": "code",
   "execution_count": 15,
   "metadata": {},
   "outputs": [
    {
     "name": "stdout",
     "output_type": "stream",
     "text": [
      "Dice Accuracy: 65.59%, Avg loss: 0.138016 \n",
      "\n",
      "None\n",
      "Dice Accuracy: 0.01%, Avg loss: 0.382423 \n",
      "\n",
      "None\n",
      "Dice Accuracy: 88.28%, Avg loss: 0.005435 \n",
      "\n",
      "None\n"
     ]
    }
   ],
   "source": [
    "# image size 128, net work 8..\n",
    "test(test_dataloader_2, model, loss_fn)\n",
    "test(test_dataloader_3, model, loss_fn)\n",
    "test(test_dataloader_1, model, loss_fn)"
   ]
  },
  {
   "cell_type": "code",
   "execution_count": 16,
   "metadata": {},
   "outputs": [
    {
     "name": "stdout",
     "output_type": "stream",
     "text": [
      "Dice Accuracy: 65.59%, Avg loss: 0.138883 \n",
      "\n"
     ]
    }
   ],
   "source": [
    "test(test_dataloader_2, model, loss_fn)"
   ]
  },
  {
   "cell_type": "code",
   "execution_count": 17,
   "metadata": {},
   "outputs": [
    {
     "name": "stdout",
     "output_type": "stream",
     "text": [
      "Dice Accuracy: 0.01%, Avg loss: 0.380592 \n",
      "\n",
      "None\n"
     ]
    }
   ],
   "source": [
    "test(test_dataloader_3, model, loss_fn)"
   ]
  },
  {
   "cell_type": "code",
   "execution_count": null,
   "metadata": {},
   "outputs": [],
   "source": [
    "# Model performe so bad on kidney_3, try train 1 more epoch on kidney_3\n",
    "for t in range(1):\n",
    "    start_time = time.time()\n",
    "    print(f\"Epoch {t+1}\\n-------------------------------\")\n",
    "    train(train_dataloader_3, model, loss_fn, optimizer, print_gap=1000, track_accuracy=True, epoch=t)\n",
    "    print(f\"Epoch {t+1} training done, time: {time.time() - start_time:.2f}\")\n",
    "print(\"Done!\")"
   ]
  },
  {
   "cell_type": "code",
   "execution_count": 20,
   "metadata": {},
   "outputs": [
    {
     "name": "stdout",
     "output_type": "stream",
     "text": [
      "Dice Accuracy: 2.70%, Avg loss: 1.218644 \n",
      "\n",
      "None\n",
      "Dice Accuracy: 89.70%, Avg loss: 0.006915 \n",
      "\n",
      "None\n",
      "Dice Accuracy: 36.56%, Avg loss: 0.137333 \n",
      "\n",
      "None\n"
     ]
    }
   ],
   "source": [
    "# trained on kidney_3, check performance on other kidneys\n",
    "test(test_dataloader_2, model, loss_fn)\n",
    "test(test_dataloader_3, model, loss_fn)\n",
    "test(test_dataloader_1, model, loss_fn)"
   ]
  },
  {
   "cell_type": "code",
   "execution_count": 20,
   "metadata": {},
   "outputs": [],
   "source": [
    "writer.close()"
   ]
  },
  {
   "cell_type": "markdown",
   "metadata": {},
   "source": [
    "# Test on another kidney"
   ]
  },
  {
   "cell_type": "code",
   "execution_count": 14,
   "metadata": {},
   "outputs": [
    {
     "name": "stdout",
     "output_type": "stream",
     "text": [
      "1512\n"
     ]
    }
   ],
   "source": [
    "# create test dataset on kidney_3_dense\n",
    "kidney_path = '/home/ziyu/Projects/blood-vessel-segmentation/data/processed/conv/kidney_3_sparse_images.npy'\n",
    "label_path = '/home/ziyu/Projects/blood-vessel-segmentation/data/processed/conv/kidney_3_sparse_labels.npy'\n",
    "test_ds = Kidney3D(kidney_path, label_path, size=128, stride=-1)\n",
    "print(test_ds.__len__())\n",
    "test_dataloader = DataLoader(test_ds, batch_size=4, shuffle=True)\n"
   ]
  },
  {
   "cell_type": "code",
   "execution_count": 15,
   "metadata": {},
   "outputs": [
    {
     "name": "stdout",
     "output_type": "stream",
     "text": [
      "Dice Accuracy: 0.01%, Avg loss: 0.091088 \n",
      "\n"
     ]
    }
   ],
   "source": [
    "test(test_dataloader, model, loss_fn)"
   ]
  },
  {
   "cell_type": "code",
   "execution_count": 17,
   "metadata": {},
   "outputs": [
    {
     "name": "stdout",
     "output_type": "stream",
     "text": [
      "1944\n"
     ]
    }
   ],
   "source": [
    "# create test dataset on kidney_2_dense\n",
    "kidney_path = '/home/ziyu/Projects/blood-vessel-segmentation/data/processed/conv/kidney_2_images.npy'\n",
    "label_path = '/home/ziyu/Projects/blood-vessel-segmentation/data/processed/conv/kidney_2_labels.npy'\n",
    "test_ds = Kidney3D(kidney_path, label_path, size=128, stride=-1)\n",
    "print(test_ds.__len__())\n",
    "test_dataloader = DataLoader(test_ds, batch_size=4, shuffle=True)"
   ]
  },
  {
   "cell_type": "code",
   "execution_count": 18,
   "metadata": {},
   "outputs": [
    {
     "name": "stdout",
     "output_type": "stream",
     "text": [
      "Dice Accuracy: 1.24%, Avg loss: 0.130242 \n",
      "\n"
     ]
    }
   ],
   "source": [
    "test(test_dataloader, model, loss_fn)"
   ]
  },
  {
   "cell_type": "code",
   "execution_count": 23,
   "metadata": {},
   "outputs": [
    {
     "data": {
      "text/plain": [
       "571.4285714285714"
      ]
     },
     "execution_count": 23,
     "metadata": {},
     "output_type": "execute_result"
    }
   ],
   "source": [
    "2000 / 3.5"
   ]
  },
  {
   "cell_type": "markdown",
   "metadata": {},
   "source": [
    "# Save & Load model"
   ]
  },
  {
   "cell_type": "code",
   "execution_count": 17,
   "metadata": {},
   "outputs": [],
   "source": [
    "torch.save(model, \"model_kidney_231_64_10epochs_3_1epoch.pth\")\n",
    "#model = torch.load(\"model_kidney_1_dense_weighted_8epochs.pth\")"
   ]
  },
  {
   "cell_type": "code",
   "execution_count": 17,
   "metadata": {},
   "outputs": [],
   "source": [
    "model_2 = torch.load(\"model_kidney_1_dense_5epochs.pth\").to(device)"
   ]
  },
  {
   "cell_type": "code",
   "execution_count": 18,
   "metadata": {},
   "outputs": [
    {
     "name": "stdout",
     "output_type": "stream",
     "text": [
      "Dice Accuracy: 87.90%, Avg loss: 0.016385 \n",
      "\n"
     ]
    }
   ],
   "source": [
    "test(train_dataloader, model_2, loss_fn)"
   ]
  }
 ],
 "metadata": {
  "kernelspec": {
   "display_name": "Python 3",
   "language": "python",
   "name": "python3"
  },
  "language_info": {
   "codemirror_mode": {
    "name": "ipython",
    "version": 3
   },
   "file_extension": ".py",
   "mimetype": "text/x-python",
   "name": "python",
   "nbconvert_exporter": "python",
   "pygments_lexer": "ipython3",
   "version": "3.10.12"
  }
 },
 "nbformat": 4,
 "nbformat_minor": 2
}
