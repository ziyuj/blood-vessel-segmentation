{
 "cells": [
  {
   "cell_type": "code",
   "execution_count": 1,
   "metadata": {},
   "outputs": [],
   "source": [
    "import torch\n",
    "from torch import nn\n",
    "from torch.utils.data import Dataset, DataLoader\n",
    "from unet3d import UNet3D\n",
    "import time\n",
    "import os\n",
    "import cv2"
   ]
  },
  {
   "cell_type": "code",
   "execution_count": 2,
   "metadata": {},
   "outputs": [
    {
     "name": "stdout",
     "output_type": "stream",
     "text": [
      "in and out: (1, 8)\n",
      "in and out: (8, 16)\n",
      "in and out: (16, 32)\n",
      "in and out: (32, 64)\n",
      "in, res and out: (64, 32, 32)\n",
      "in, res and out: (32, 16, 16)\n",
      "in, res and out: (16, 8, 8)\n",
      "output numbner of classes: 2\n"
     ]
    }
   ],
   "source": [
    "device = 'cuda'\n",
    "model = UNet3D(in_channels=1, num_classes=2, block_channels=[8, 16, 32, 64]).to(device)\n",
    "#model_2 = torch.load(\"model_kidney_1_dense_5epochs.pth\").to(device)"
   ]
  },
  {
   "cell_type": "code",
   "execution_count": 3,
   "metadata": {},
   "outputs": [
    {
     "name": "stdout",
     "output_type": "stream",
     "text": [
      "size of kidney_1_dense: 10.83 GB as float32\n",
      "size of kidney_1_voi: 20.77 GB as float32\n"
     ]
    }
   ],
   "source": [
    "### data size\n",
    "\n",
    "kidney_1_dense = (2279, 1303, 912) # dense, all  \n",
    "kidney_1_voi_p = (1397, 1928, 1928) # high resulution subset  \n",
    "kidney_2_sparse_65 = (2217, 1041, 1511) # sparsly segmented, 65%  \n",
    "kidney_3_sparse_85 = (1035, 1706, 1510) # sparsly segmented, 85%  \n",
    "kidney_3_dense_p_l = (501, 1706, 1510) # dense segmented subset, label ONLY\n",
    "\n",
    "print(f'size of kidney_1_dense: {2279*1303*912*4/(1e9):.4} GB as float32')\n",
    "print(f'size of kidney_1_voi: {1397*1928*1928*4/(1e9):.4} GB as float32')"
   ]
  },
  {
   "cell_type": "code",
   "execution_count": 88,
   "metadata": {},
   "outputs": [],
   "source": [
    "# dataset class\n",
    "import numpy as np\n",
    "class Kidney3D(Dataset):\n",
    "    \"\"\"Dataset for one kidney\"\"\"\n",
    "    def __init__(self, kidney_path, label_path, size=128, stride=-1):\n",
    "        \"\"\"Initialize data set based on volume size and stride\"\"\"\n",
    "        self.kidney = np.load(kidney_path)\n",
    "        self.label = np.load(label_path)\n",
    "        if stride == -1: stride = size\n",
    "        self.stride = stride\n",
    "        self.size = size\n",
    "        # pad the data to cover all raw data\n",
    "        # not necessery for training but good for inferencing\n",
    "        pad_dim = []\n",
    "        for i in range(3):\n",
    "            comp = stride - (self.kidney.shape[i] - size) % stride\n",
    "            pad_dim.append((comp // 2, comp // 2 + comp % 2))\n",
    "        self.kidney = np.pad(self.kidney, pad_dim, 'edge')\n",
    "        self.label = np.pad(self.label, pad_dim, 'constant', constant_values=0)\n",
    "        self.n_h = (self.kidney.shape[0] - size) // stride + 1\n",
    "        self.n_w = (self.kidney.shape[1] - size) // stride + 1\n",
    "        self.n_l = (self.kidney.shape[2] - size) // stride + 1\n",
    "        self.n = self.n_h * self.n_w * self.n_l\n",
    "        \n",
    "    def __len__(self):\n",
    "        return self.n\n",
    "    \n",
    "    def __getitem__(self, idx):\n",
    "        h = idx // (self.n_w * self.n_l)\n",
    "        w = idx % (self.n_w * self.n_l) // self.n_l\n",
    "        l = idx % (self.n_w * self.n_l) % self.n_l\n",
    "\n",
    "        data = torch.from_numpy(self.kidney[h*self.stride:h*self.stride+self.size, \n",
    "                                            w*self.stride:w*self.stride+self.size,\n",
    "                                            l*self.stride:l*self.stride+self.size])\n",
    "        data = torch.unsqueeze(data, 0).to(torch.float)\n",
    "        \n",
    "        label = torch.from_numpy(self.label[h*self.stride:h*self.stride+self.size, \n",
    "                                            w*self.stride:w*self.stride+self.size,\n",
    "                                            l*self.stride:l*self.stride+self.size])\n",
    "        label = label.to(torch.long)\n",
    "        # print(idx, (h, w, l)) # (0, 0, 13)\n",
    "        # print(f'data shape: {data.shape}')\n",
    "        # print(f'label shape: {label.shape}')\n",
    "        return data, label\n",
    "\n"
   ]
  },
  {
   "cell_type": "code",
   "execution_count": 5,
   "metadata": {},
   "outputs": [
    {
     "data": {
      "text/plain": [
       "8398"
      ]
     },
     "execution_count": 5,
     "metadata": {},
     "output_type": "execute_result"
    }
   ],
   "source": [
    "# explore defined dataset\n",
    "kidney_path = '/home/ziyu/Projects/blood-vessel-segmentation/data/processed/conv/kidney_1_dense_images.npy'\n",
    "label_path = '/home/ziyu/Projects/blood-vessel-segmentation/data/processed/conv/kidney_1_dense_labels.npy'\n",
    "train_ds = Kidney3D(kidney_path, label_path, size=128, stride=64)\n",
    "train_ds.__len__()"
   ]
  },
  {
   "cell_type": "code",
   "execution_count": 91,
   "metadata": {},
   "outputs": [
    {
     "data": {
      "text/plain": [
       "1584"
      ]
     },
     "execution_count": 91,
     "metadata": {},
     "output_type": "execute_result"
    }
   ],
   "source": [
    "kidney_path = '/home/ziyu/Projects/blood-vessel-segmentation/data/processed/conv/kidney_1_dense_images.npy'\n",
    "label_path = '/home/ziyu/Projects/blood-vessel-segmentation/data/processed/conv/kidney_1_dense_labels.npy'\n",
    "train_ds = Kidney3D(kidney_path, label_path, size=128, stride=-1)\n",
    "train_ds.__len__()"
   ]
  },
  {
   "cell_type": "code",
   "execution_count": 92,
   "metadata": {},
   "outputs": [
    {
     "name": "stdout",
     "output_type": "stream",
     "text": [
      "0.00503\n"
     ]
    }
   ],
   "source": [
    "# unbalanced issue of the data\n",
    "\n",
    "# label_list = []\n",
    "# for i in range(ds.n):\n",
    "#     label_list.append(ds.__getitem__(i)[1].sum().item())\n",
    "\n",
    "# print(len(label_list))\n",
    "# print(sum([1 for i in label_list if i > 0]))\n",
    "\n",
    "pos = train_ds.label.sum()\n",
    "total = train_ds.label.shape[0] * train_ds.label.shape[1] * train_ds.label.shape[2]\n",
    "print(f'{pos/total:.5f}')"
   ]
  },
  {
   "cell_type": "markdown",
   "metadata": {},
   "source": [
    "when size = 128, 509 of 1190 data non-empty  \n",
    "when size = 128, stride = 20, 120291 out of 254880 non-empty\n",
    "when size = 512, 71 of 120 data non-empty  \n",
    "pixel wise, 0.00503 of data are positive"
   ]
  },
  {
   "cell_type": "code",
   "execution_count": 8,
   "metadata": {},
   "outputs": [],
   "source": [
    "train_dataloader = DataLoader(train_ds, batch_size=4, shuffle=True)"
   ]
  },
  {
   "cell_type": "code",
   "execution_count": 9,
   "metadata": {},
   "outputs": [],
   "source": [
    "loss_fn = nn.CrossEntropyLoss(weight=torch.tensor([0.2, 0.8]).to(device))\n",
    "optimizer = torch.optim.Adam(model.parameters())"
   ]
  },
  {
   "cell_type": "code",
   "execution_count": 10,
   "metadata": {},
   "outputs": [
    {
     "name": "stderr",
     "output_type": "stream",
     "text": [
      "2023-12-28 05:06:00.118488: I tensorflow/core/platform/cpu_feature_guard.cc:182] This TensorFlow binary is optimized to use available CPU instructions in performance-critical operations.\n",
      "To enable the following instructions: AVX2 FMA, in other operations, rebuild TensorFlow with the appropriate compiler flags.\n"
     ]
    }
   ],
   "source": [
    "from torch.utils.tensorboard import SummaryWriter\n",
    "\n",
    "writer = SummaryWriter('runs/unet_3d')\n",
    "# X, y = next(iter(train_dataloader))\n",
    "# writer.add_graph(model, X)\n",
    "# writer.close()"
   ]
  },
  {
   "cell_type": "code",
   "execution_count": 11,
   "metadata": {},
   "outputs": [],
   "source": [
    "def dice_accuracy_batch(pred, y):\n",
    "    \"\"\"return overlap, label_positive, pred_positive for each batch\n",
    "    \n",
    "    Since one batch may not contains any positive label, leave the accuracy calculation to the end \n",
    "    \"\"\"\n",
    "    overlap = (pred.argmax(1) & y).type(torch.int).sum().item()\n",
    "    pred_positive = (pred.argmax(1) == 1).type(torch.int).sum().item()\n",
    "    label_positive = y.type(torch.int).sum().item()\n",
    "    \n",
    "    return overlap, pred_positive, label_positive"
   ]
  },
  {
   "cell_type": "code",
   "execution_count": 12,
   "metadata": {},
   "outputs": [],
   "source": [
    "def train(dataloader, model, loss_fn, optimizer, print_gap=20, track_accuracy=True, epoch=0):\n",
    "    size = len(dataloader.dataset)\n",
    "    num_batches = len(dataloader)\n",
    "    test_loss, overlap, pred_positive, label_positive = 0,0,0,0\n",
    "    model.train()\n",
    "    for batch, (X, y) in enumerate(dataloader):\n",
    "        X, y = X.to(device), y.to(device)\n",
    "\n",
    "        # Compute prediction error\n",
    "        pred = model(X)\n",
    "        loss = loss_fn(pred, y)\n",
    "\n",
    "        # Backpropagation\n",
    "        loss.backward()\n",
    "        optimizer.step()\n",
    "        optimizer.zero_grad()\n",
    "\n",
    "        loss = loss.item()\n",
    "        writer.add_scalar('loss', loss, batch + epoch * num_batches)\n",
    "        test_loss += loss\n",
    "\n",
    "        if track_accuracy:\n",
    "            overlap_batch, pred_positive_batch, label_positive_batch = dice_accuracy_batch(pred, y)\n",
    "            overlap += overlap_batch\n",
    "            pred_positive += pred_positive_batch\n",
    "            label_positive += label_positive_batch\n",
    "            if (pred_positive_batch + label_positive_batch) == 0:\n",
    "                batch_dice_accuracy = -1\n",
    "            else:\n",
    "                batch_dice_accuracy = 2*overlap_batch / (pred_positive_batch + label_positive_batch)\n",
    "            writer.add_scalar('Batch_Dice_Accuracy', batch_dice_accuracy, batch + epoch * num_batches)\n",
    "\n",
    "        if batch % print_gap == 0:\n",
    "            current = (batch + 1) * len(X)\n",
    "            print(f\"loss: {loss:>7f}  [{current:>5d}/{size:>5d}]\")\n",
    "            if track_accuracy: print(f\"batch Dice Accuracy: {batch_dice_accuracy:.2%}\")\n",
    "            \n",
    "\n",
    "    avg_loss = test_loss / num_batches\n",
    "    print(f\"Epoch Avg loss: {avg_loss:>8f}\")\n",
    "    if track_accuracy:\n",
    "        dice_accuracy = 2*overlap / (pred_positive + label_positive)\n",
    "        print(f\"Epoch Dice Accuracy: {dice_accuracy:.2%}\")\n"
   ]
  },
  {
   "cell_type": "code",
   "execution_count": 13,
   "metadata": {},
   "outputs": [],
   "source": [
    "def test(dataloader, model, loss_fn):\n",
    "    size = len(dataloader.dataset)\n",
    "    num_batches = len(dataloader)\n",
    "    model.eval()\n",
    "    test_loss, overlap, pred_positive, label_positive = 0,0,0,0\n",
    "    with torch.no_grad():\n",
    "        for X, y in dataloader:\n",
    "            X, y = X.to(device), y.to(device)\n",
    "            pred = model(X)\n",
    "            test_loss += loss_fn(pred, y).item()\n",
    "            overlap_batch, pred_positive_batch, label_positive_batch = dice_accuracy_batch(pred, y)\n",
    "            overlap += overlap_batch \n",
    "            pred_positive += pred_positive_batch\n",
    "            label_positive += label_positive_batch\n",
    "    test_loss /= num_batches\n",
    "    dice_accuracy = 2*overlap / (pred_positive + label_positive)\n",
    "    print(f\"Dice Accuracy: {dice_accuracy:.2%}, Avg loss: {test_loss:>8f} \\n\")"
   ]
  },
  {
   "cell_type": "code",
   "execution_count": 17,
   "metadata": {},
   "outputs": [
    {
     "name": "stdout",
     "output_type": "stream",
     "text": [
      "Epoch 1\n",
      "-------------------------------\n",
      "loss: 0.006644  [    4/ 8398]\n",
      "batch Dice Accuracy: 78.41%\n",
      "loss: 0.031050  [  404/ 8398]\n",
      "batch Dice Accuracy: 62.07%\n",
      "loss: 0.005226  [  804/ 8398]\n",
      "batch Dice Accuracy: 86.98%\n",
      "loss: 0.004521  [ 1204/ 8398]\n",
      "batch Dice Accuracy: 0.09%\n",
      "loss: 0.007121  [ 1604/ 8398]\n",
      "batch Dice Accuracy: 81.50%\n",
      "loss: 0.009353  [ 2004/ 8398]\n",
      "batch Dice Accuracy: 90.06%\n",
      "loss: 0.000826  [ 2404/ 8398]\n",
      "batch Dice Accuracy: 33.20%\n",
      "loss: 0.006756  [ 2804/ 8398]\n",
      "batch Dice Accuracy: 85.45%\n",
      "loss: 0.014820  [ 3204/ 8398]\n",
      "batch Dice Accuracy: 62.88%\n",
      "loss: 0.003228  [ 3604/ 8398]\n",
      "batch Dice Accuracy: 68.23%\n",
      "loss: 0.013954  [ 4004/ 8398]\n",
      "batch Dice Accuracy: 70.32%\n",
      "loss: 0.016927  [ 4404/ 8398]\n",
      "batch Dice Accuracy: 77.39%\n",
      "loss: 0.010809  [ 4804/ 8398]\n",
      "batch Dice Accuracy: 89.19%\n",
      "loss: 0.001397  [ 5204/ 8398]\n",
      "batch Dice Accuracy: 1.56%\n",
      "loss: 0.013443  [ 5604/ 8398]\n",
      "batch Dice Accuracy: 83.12%\n",
      "loss: 0.002059  [ 6004/ 8398]\n",
      "batch Dice Accuracy: 82.57%\n",
      "loss: 0.006753  [ 6404/ 8398]\n",
      "batch Dice Accuracy: 75.22%\n",
      "loss: 0.008369  [ 6804/ 8398]\n",
      "batch Dice Accuracy: 96.20%\n",
      "loss: 0.011202  [ 7204/ 8398]\n",
      "batch Dice Accuracy: 95.60%\n",
      "loss: 0.010669  [ 7604/ 8398]\n",
      "batch Dice Accuracy: 84.86%\n",
      "loss: 0.000841  [ 8004/ 8398]\n",
      "batch Dice Accuracy: 0.00%\n",
      "Epoch Avg loss: 0.010838\n",
      "Epoch Dice Accuracy: 84.19%\n",
      "Epoch 1 training done, time: 858.29\n",
      "Epoch 2\n",
      "-------------------------------\n",
      "loss: 0.003891  [    4/ 8398]\n",
      "batch Dice Accuracy: 93.15%\n",
      "loss: 0.012675  [  404/ 8398]\n",
      "batch Dice Accuracy: 93.65%\n",
      "loss: 0.006694  [  804/ 8398]\n",
      "batch Dice Accuracy: 90.26%\n",
      "loss: 0.014917  [ 1204/ 8398]\n",
      "batch Dice Accuracy: 91.63%\n",
      "loss: 0.002357  [ 1604/ 8398]\n",
      "batch Dice Accuracy: 66.97%\n",
      "loss: 0.003622  [ 2004/ 8398]\n",
      "batch Dice Accuracy: 85.63%\n",
      "loss: 0.004672  [ 2404/ 8398]\n",
      "batch Dice Accuracy: 89.70%\n",
      "loss: 0.002932  [ 2804/ 8398]\n",
      "batch Dice Accuracy: 78.36%\n",
      "loss: 0.012119  [ 3204/ 8398]\n",
      "batch Dice Accuracy: 86.19%\n",
      "loss: 0.015910  [ 3604/ 8398]\n",
      "batch Dice Accuracy: 90.69%\n",
      "loss: 0.003052  [ 4004/ 8398]\n",
      "batch Dice Accuracy: 81.57%\n",
      "loss: 0.000268  [ 4404/ 8398]\n",
      "batch Dice Accuracy: 0.00%\n",
      "loss: 0.002585  [ 4804/ 8398]\n",
      "batch Dice Accuracy: 87.31%\n",
      "loss: 0.001693  [ 5204/ 8398]\n",
      "batch Dice Accuracy: 82.89%\n",
      "loss: 0.024428  [ 5604/ 8398]\n",
      "batch Dice Accuracy: 93.93%\n",
      "loss: 0.007169  [ 6004/ 8398]\n",
      "batch Dice Accuracy: 94.32%\n",
      "loss: 0.003185  [ 6404/ 8398]\n",
      "batch Dice Accuracy: 77.41%\n",
      "loss: 0.007244  [ 6804/ 8398]\n",
      "batch Dice Accuracy: 74.65%\n",
      "loss: 0.002463  [ 7204/ 8398]\n",
      "batch Dice Accuracy: 81.94%\n",
      "loss: 0.005478  [ 7604/ 8398]\n",
      "batch Dice Accuracy: 89.56%\n",
      "loss: 0.000127  [ 8004/ 8398]\n",
      "batch Dice Accuracy: 0.00%\n",
      "Epoch Avg loss: 0.008986\n",
      "Epoch Dice Accuracy: 86.54%\n",
      "Epoch 2 training done, time: 859.88\n",
      "Epoch 3\n",
      "-------------------------------\n",
      "loss: 0.024315  [    4/ 8398]\n",
      "batch Dice Accuracy: 86.35%\n",
      "loss: 0.000614  [  404/ 8398]\n",
      "batch Dice Accuracy: 63.45%\n",
      "loss: 0.000715  [  804/ 8398]\n",
      "batch Dice Accuracy: 0.00%\n",
      "loss: 0.006943  [ 1204/ 8398]\n",
      "batch Dice Accuracy: 65.01%\n",
      "loss: 0.005645  [ 1604/ 8398]\n",
      "batch Dice Accuracy: 92.54%\n",
      "loss: 0.003963  [ 2004/ 8398]\n",
      "batch Dice Accuracy: 92.52%\n",
      "loss: 0.017624  [ 2404/ 8398]\n",
      "batch Dice Accuracy: 90.12%\n",
      "loss: 0.000984  [ 2804/ 8398]\n",
      "batch Dice Accuracy: 71.12%\n",
      "loss: 0.029304  [ 3204/ 8398]\n",
      "batch Dice Accuracy: 51.02%\n",
      "loss: 0.018047  [ 3604/ 8398]\n",
      "batch Dice Accuracy: 95.94%\n",
      "loss: 0.009324  [ 4004/ 8398]\n",
      "batch Dice Accuracy: 95.68%\n",
      "loss: 0.006550  [ 4404/ 8398]\n",
      "batch Dice Accuracy: 91.09%\n",
      "loss: 0.006447  [ 4804/ 8398]\n",
      "batch Dice Accuracy: 70.00%\n",
      "loss: 0.006669  [ 5204/ 8398]\n",
      "batch Dice Accuracy: 94.83%\n",
      "loss: 0.010150  [ 5604/ 8398]\n",
      "batch Dice Accuracy: 95.41%\n",
      "loss: 0.007900  [ 6004/ 8398]\n",
      "batch Dice Accuracy: 79.32%\n",
      "loss: 0.001635  [ 6404/ 8398]\n",
      "batch Dice Accuracy: 38.61%\n",
      "loss: 0.014589  [ 6804/ 8398]\n",
      "batch Dice Accuracy: 40.69%\n",
      "loss: 0.014654  [ 7204/ 8398]\n",
      "batch Dice Accuracy: 69.89%\n",
      "loss: 0.005611  [ 7604/ 8398]\n",
      "batch Dice Accuracy: 70.07%\n",
      "loss: 0.004969  [ 8004/ 8398]\n",
      "batch Dice Accuracy: 88.70%\n",
      "Epoch Avg loss: 0.007858\n",
      "Epoch Dice Accuracy: 88.11%\n",
      "Epoch 3 training done, time: 860.88\n",
      "Done!\n"
     ]
    }
   ],
   "source": [
    "epochs = 3\n",
    "for t in range(epochs):\n",
    "    start_time = time.time()\n",
    "    print(f\"Epoch {t+1}\\n-------------------------------\")\n",
    "    train(train_dataloader, model, loss_fn, optimizer, print_gap=100, track_accuracy=True, epoch=t)\n",
    "    print(f\"Epoch {t+1} training done, time: {time.time() - start_time:.2f}\")\n",
    "print(\"Done!\")"
   ]
  },
  {
   "cell_type": "code",
   "execution_count": 20,
   "metadata": {},
   "outputs": [],
   "source": [
    "writer.close()"
   ]
  },
  {
   "cell_type": "code",
   "execution_count": 16,
   "metadata": {},
   "outputs": [
    {
     "name": "stdout",
     "output_type": "stream",
     "text": [
      "Dice Accuracy: 88.61%, Avg loss: 0.011191 \n",
      "\n"
     ]
    }
   ],
   "source": [
    "test(train_dataloader, model, loss_fn)"
   ]
  },
  {
   "cell_type": "markdown",
   "metadata": {},
   "source": [
    "# Test on another kidney"
   ]
  },
  {
   "cell_type": "code",
   "execution_count": null,
   "metadata": {},
   "outputs": [],
   "source": [
    "kidney_path = '/home/ziyu/Projects/blood-vessel-segmentation/data/processed/conv/kidney_1_dense_images.npy'\n",
    "label_path = '/home/ziyu/Projects/blood-vessel-segmentation/data/processed/conv/kidney_1_dense_labels.npy'\n",
    "train_ds = Kidney3D(kidney_path, label_path, size=128, stride=64)\n",
    "train_ds.__len__()"
   ]
  },
  {
   "cell_type": "markdown",
   "metadata": {},
   "source": [
    "# Save & Load model"
   ]
  },
  {
   "cell_type": "code",
   "execution_count": 19,
   "metadata": {},
   "outputs": [],
   "source": [
    "#torch.save(model, \"model_kidney_1_dense_weighted_8epochs.pth\")\n",
    "#model = torch.load(\"model_kidney_1_dense_weighted_8epochs.pth\")"
   ]
  },
  {
   "cell_type": "code",
   "execution_count": 17,
   "metadata": {},
   "outputs": [],
   "source": [
    "model_2 = torch.load(\"model_kidney_1_dense_5epochs.pth\").to(device)"
   ]
  },
  {
   "cell_type": "code",
   "execution_count": 18,
   "metadata": {},
   "outputs": [
    {
     "name": "stdout",
     "output_type": "stream",
     "text": [
      "Dice Accuracy: 87.90%, Avg loss: 0.016385 \n",
      "\n"
     ]
    }
   ],
   "source": [
    "test(train_dataloader, model_2, loss_fn)"
   ]
  }
 ],
 "metadata": {
  "kernelspec": {
   "display_name": "Python 3",
   "language": "python",
   "name": "python3"
  },
  "language_info": {
   "codemirror_mode": {
    "name": "ipython",
    "version": 3
   },
   "file_extension": ".py",
   "mimetype": "text/x-python",
   "name": "python",
   "nbconvert_exporter": "python",
   "pygments_lexer": "ipython3",
   "version": "3.10.12"
  }
 },
 "nbformat": 4,
 "nbformat_minor": 2
}
